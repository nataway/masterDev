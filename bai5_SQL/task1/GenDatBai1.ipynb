{
 "cells": [
  {
   "cell_type": "code",
   "execution_count": null,
   "metadata": {},
   "outputs": [],
   "source": []
  },
  {
   "cell_type": "markdown",
   "metadata": {},
   "source": [
    "Bài 1: Thiết kế Cơ sở Dữ Liệu.\n",
    "- Gen Data cho các bảng :\n",
    "    - Teacher :\n",
    "    - Student\n",
    "    - Class : \n",
    "    - ClassDetail :\n",
    "    - Subject :"
   ]
  },
  {
   "cell_type": "markdown",
   "metadata": {},
   "source": [
    "1. gen data Teacher"
   ]
  },
  {
   "cell_type": "code",
   "execution_count": 17,
   "metadata": {},
   "outputs": [],
   "source": [
    "import random\n",
    "import csv \n",
    "\n",
    "last_name = [\"Nguyễn\",\"Trần\", \"Lê\", \"Phạm\", \"Phan\", \"Tô\", \"Phùng\", \"Đỗ\", \"Lã\", \"Võ\", \"Bùi\", \"Đặng\", \"Dương\", \"Lý\", \"Hoàng\", \"Vũ\", \"Hồ\", \"Ngô\", \"Đinh\",\"lã\"]\n",
    "\n",
    "with open(\"girl.txt\", \"r\") as f:\n",
    "    lines = f.readlines()\n",
    "first_name_girl = [i.split(\"\\n\")[0] for i in lines]\n",
    "\n",
    "with open(\"boy.txt\", \"r\") as f:\n",
    "    lines = f.readlines()\n",
    "first_name_boy = [i.split(\"\\n\")[0] for i in lines]\n",
    "\n",
    "\n",
    "header = [ 'name', 'gender', 'email', ]\n",
    "with open(\"teacher.csv\", \"w\") as csvf:\n",
    "    csv_writer = csv.writer(csvf)\n",
    "    csv_writer.writerow(header)\n",
    "    i = 0\n",
    "    while (i < 1000):\n",
    "        i += 1\n",
    "        id = i\n",
    "        if (random.random() < 0.5):\n",
    "                gender = 1\n",
    "                name = random.choice(last_name) + \" \" + random.choice(first_name_girl)\n",
    "                email =  \"teacher\"+str(id)+ \"@gmail.com\"\n",
    "        else:\n",
    "                gender = 0\n",
    "                name = random.choice(last_name) + \" \" + random.choice(first_name_boy)\n",
    "                email = \"teacher\"+str(id) + \"@gmail.com\"\n",
    "\n",
    "        record = [name, gender, email]\n",
    "        csv_writer.writerow(record)"
   ]
  },
  {
   "cell_type": "markdown",
   "metadata": {},
   "source": [
    "2. gen data Student "
   ]
  },
  {
   "cell_type": "code",
   "execution_count": 21,
   "metadata": {},
   "outputs": [],
   "source": [
    "import random\n",
    "import csv \n",
    "\n",
    "last_name = [\"Nguyễn\",\"Trần\", \"Lê\", \"Phạm\", \"Phan\", \"Tô\", \"Phùng\", \"Đỗ\", \"Lã\", \"Võ\", \"Bùi\", \"Đặng\", \"Dương\", \"Lý\", \"Hoàng\", \"Vũ\", \"Hồ\", \"Ngô\", \"Đinh\",\"lã\"]\n",
    "\n",
    "with open(\"girl.txt\", \"r\") as f:\n",
    "    lines = f.readlines()\n",
    "first_name_girl = [i.split(\"\\n\")[0] for i in lines]\n",
    "\n",
    "with open(\"boy.txt\", \"r\") as f:\n",
    "    lines = f.readlines()\n",
    "first_name_boy = [i.split(\"\\n\")[0] for i in lines]\n",
    "\n",
    "\n",
    "header = [ 'name', 'gender', 'email', ]\n",
    "with open(\"student.csv\", \"w\") as csvf:\n",
    "    csv_writer = csv.writer(csvf)\n",
    "    csv_writer.writerow(header)\n",
    "    i = 0\n",
    "    while (i < 21260):\n",
    "        i += 1\n",
    "        id = i\n",
    "        if (random.random() < 0.5):\n",
    "                gender = 1\n",
    "                name = random.choice(last_name) + \" \" + random.choice(first_name_girl)\n",
    "                email =  \"student\"+str(id)+ \"@gmail.com\"\n",
    "        else:\n",
    "                gender = 0\n",
    "                name = random.choice(last_name) + \" \" + random.choice(first_name_boy)\n",
    "                email = \"student\"+str(id) + \"@gmail.com\"\n",
    "\n",
    "        record = [name, gender, email]\n",
    "        csv_writer.writerow(record)"
   ]
  },
  {
   "cell_type": "markdown",
   "metadata": {},
   "source": [
    "3.Gen data for Subjects"
   ]
  },
  {
   "cell_type": "code",
   "execution_count": 22,
   "metadata": {},
   "outputs": [],
   "source": [
    "import random\n",
    "import csv \n",
    "\n",
    "with open(\"/Users/buiminhchi/GHTK/course.txt\", \"r\") as f:\n",
    "    lines = f.readlines()\n",
    "Subjects = [i.strip() for i in lines]\n",
    "\n",
    "header = ['name']\n",
    "\n",
    "with open(\"/Users/buiminhchi/GHTK/subject.csv\", \"w\") as csvf:\n",
    "    csv_writer = csv.writer(csvf)\n",
    "    csv_writer.writerow(header)\n",
    "    i = 0\n",
    "    while (i < 200):\n",
    "        \n",
    "        id = i+1\n",
    "        name = Subjects[i]\n",
    "        record = [ name]\n",
    "        i += 1\n",
    "        csv_writer.writerow(record)"
   ]
  },
  {
   "cell_type": "markdown",
   "metadata": {},
   "source": [
    "4.Gen Class\n",
    "\n",
    "5.Gen ClassDetail \n",
    "\n",
    "trong file SQL-AVRO."
   ]
  }
 ],
 "metadata": {
  "interpreter": {
   "hash": "aee8b7b246df8f9039afb4144a1f6fd8d2ca17a180786b69acc140d282b71a49"
  },
  "kernelspec": {
   "display_name": "Python 3.9.13 64-bit",
   "language": "python",
   "name": "python3"
  },
  "language_info": {
   "codemirror_mode": {
    "name": "ipython",
    "version": 3
   },
   "file_extension": ".py",
   "mimetype": "text/x-python",
   "name": "python",
   "nbconvert_exporter": "python",
   "pygments_lexer": "ipython3",
   "version": "3.9.13"
  },
  "orig_nbformat": 4
 },
 "nbformat": 4,
 "nbformat_minor": 2
}
